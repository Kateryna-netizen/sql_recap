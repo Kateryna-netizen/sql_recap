{
 "cells": [
  {
   "metadata": {
    "ExecuteTime": {
     "end_time": "2024-05-05T18:08:29.084660Z",
     "start_time": "2024-05-05T18:08:28.573683Z"
    }
   },
   "cell_type": "code",
   "source": "import pandas as pd",
   "id": "76c45269f16de6d1",
   "outputs": [],
   "execution_count": 1
  },
  {
   "cell_type": "code",
   "execution_count": null,
   "id": "initial_id",
   "metadata": {
    "collapsed": true
   },
   "outputs": [],
   "source": [
    "def add(a, b):\n",
    "    if not isinstance(a, (int, float)):\n",
    "        raise TypeError('a must be an integer or float')\n",
    "      if not isinstance(b, (int, float)):\n",
    "        raise TypeError('b must be an integer or float')\n",
    "    return a + b"
   ]
  },
  {
   "metadata": {
    "ExecuteTime": {
     "end_time": "2024-05-05T18:13:51.496007Z",
     "start_time": "2024-05-05T18:13:50.820219Z"
    }
   },
   "cell_type": "code",
   "source": "add(1, 2)",
   "id": "fdc7622227b64b0e",
   "outputs": [
    {
     "ename": "NameError",
     "evalue": "name 'add' is not defined",
     "output_type": "error",
     "traceback": [
      "\u001B[1;31m---------------------------------------------------------------------------\u001B[0m",
      "\u001B[1;31mNameError\u001B[0m                                 Traceback (most recent call last)",
      "Cell \u001B[1;32mIn[2], line 1\u001B[0m\n\u001B[1;32m----> 1\u001B[0m add(\u001B[38;5;241m1\u001B[39m, \u001B[38;5;241m2\u001B[39m)\n",
      "\u001B[1;31mNameError\u001B[0m: name 'add' is not defined"
     ]
    }
   ],
   "execution_count": 2
  },
  {
   "metadata": {},
   "cell_type": "code",
   "outputs": [],
   "execution_count": null,
   "source": "",
   "id": "a2c95f092f724572"
  }
 ],
 "metadata": {
  "kernelspec": {
   "display_name": "Python 3",
   "language": "python",
   "name": "python3"
  },
  "language_info": {
   "codemirror_mode": {
    "name": "ipython",
    "version": 2
   },
   "file_extension": ".py",
   "mimetype": "text/x-python",
   "name": "python",
   "nbconvert_exporter": "python",
   "pygments_lexer": "ipython2",
   "version": "2.7.6"
  }
 },
 "nbformat": 4,
 "nbformat_minor": 5
}
